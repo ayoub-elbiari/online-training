{
 "cells": [
  {
   "cell_type": "code",
   "execution_count": null,
   "metadata": {},
   "outputs": [],
   "source": [
    "import ast\n",
    "import pandas as pd\n",
    "import numpy as np\n",
    "from tqdm import tqdm\n",
    "\n",
    "from sklearn.metrics.pairwise import cosine_similarity"
   ]
  },
  {
   "cell_type": "code",
   "execution_count": 219,
   "metadata": {},
   "outputs": [
    {
     "data": {
      "text/html": [
       "<div>\n",
       "<style scoped>\n",
       "    .dataframe tbody tr th:only-of-type {\n",
       "        vertical-align: middle;\n",
       "    }\n",
       "\n",
       "    .dataframe tbody tr th {\n",
       "        vertical-align: top;\n",
       "    }\n",
       "\n",
       "    .dataframe thead th {\n",
       "        text-align: right;\n",
       "    }\n",
       "</style>\n",
       "<table border=\"1\" class=\"dataframe\">\n",
       "  <thead>\n",
       "    <tr style=\"text-align: right;\">\n",
       "      <th></th>\n",
       "      <th>session_id</th>\n",
       "      <th>job_ids</th>\n",
       "      <th>actions</th>\n",
       "    </tr>\n",
       "  </thead>\n",
       "  <tbody>\n",
       "    <tr>\n",
       "      <th>0</th>\n",
       "      <td>0</td>\n",
       "      <td>[305, 299, 300, 290, 282, 274, 264, 261]</td>\n",
       "      <td>[view, view, view, view, view, view, view, view]</td>\n",
       "    </tr>\n",
       "    <tr>\n",
       "      <th>1</th>\n",
       "      <td>1</td>\n",
       "      <td>[84, 257, 252, 250]</td>\n",
       "      <td>[view, view, view, view]</td>\n",
       "    </tr>\n",
       "    <tr>\n",
       "      <th>2</th>\n",
       "      <td>2</td>\n",
       "      <td>[241, 237, 221, 309, 310, 306, 301]</td>\n",
       "      <td>[view, view, apply, apply, apply, apply, apply]</td>\n",
       "    </tr>\n",
       "    <tr>\n",
       "      <th>3</th>\n",
       "      <td>3</td>\n",
       "      <td>[303, 297, 296, 298, 294, 295, 292, 293]</td>\n",
       "      <td>[apply, apply, apply, apply, apply, apply, app...</td>\n",
       "    </tr>\n",
       "    <tr>\n",
       "      <th>4</th>\n",
       "      <td>4</td>\n",
       "      <td>[171, 291, 289, 166, 288, 155]</td>\n",
       "      <td>[apply, apply, apply, apply, apply, apply]</td>\n",
       "    </tr>\n",
       "  </tbody>\n",
       "</table>\n",
       "</div>"
      ],
      "text/plain": [
       "   session_id                                   job_ids  \\\n",
       "0           0  [305, 299, 300, 290, 282, 274, 264, 261]   \n",
       "1           1                       [84, 257, 252, 250]   \n",
       "2           2       [241, 237, 221, 309, 310, 306, 301]   \n",
       "3           3  [303, 297, 296, 298, 294, 295, 292, 293]   \n",
       "4           4            [171, 291, 289, 166, 288, 155]   \n",
       "\n",
       "                                             actions  \n",
       "0   [view, view, view, view, view, view, view, view]  \n",
       "1                           [view, view, view, view]  \n",
       "2    [view, view, apply, apply, apply, apply, apply]  \n",
       "3  [apply, apply, apply, apply, apply, apply, app...  \n",
       "4         [apply, apply, apply, apply, apply, apply]  "
      ]
     },
     "execution_count": 219,
     "metadata": {},
     "output_type": "execute_result"
    }
   ],
   "source": [
    "df_train = pd.read_csv(\"datasets/x_train.csv\", index_col=None)[:1000]\n",
    "y_train = pd.read_csv(\"datasets/y_train.csv\", index_col=None)\n",
    "df_train.job_ids = df_train.job_ids.apply(ast.literal_eval)\n",
    "df_train.actions = df_train.actions.apply(ast.literal_eval)\n",
    "df_train.head()"
   ]
  },
  {
   "cell_type": "code",
   "execution_count": 220,
   "metadata": {},
   "outputs": [],
   "source": [
    "job_ids = [set(job_list) for job_list in df_train.job_ids]\n",
    "job_ids = set.union(*job_ids)\n",
    "jod_id_to_idx = {id: idx for idx, id in enumerate(job_ids)}\n",
    "jod_idx_to_id = {idx: id for id, idx in jod_id_to_idx.items()}"
   ]
  },
  {
   "cell_type": "code",
   "execution_count": 221,
   "metadata": {},
   "outputs": [],
   "source": [
    "df_train.job_ids = df_train.job_ids.apply(lambda ids : [jod_id_to_idx[id] for id in ids])"
   ]
  },
  {
   "cell_type": "code",
   "execution_count": 222,
   "metadata": {},
   "outputs": [],
   "source": [
    "def indices_to_binary_vector(indices):\n",
    "    binary_vector = np.zeros(len(job_ids))\n",
    "    binary_vector[indices] = 1\n",
    "    return binary_vector\n",
    "\n",
    "df_train.job_ids = df_train.job_ids.apply(indices_to_binary_vector).to_list()"
   ]
  },
  {
   "cell_type": "code",
   "execution_count": null,
   "metadata": {},
   "outputs": [],
   "source": [
    "def get_prediction(K=20, T=.3):\n",
    "    \n",
    "    interaction_matrix = np.array(df_train.job_ids.to_list())\n",
    "    similarity_matrix = cosine_similarity(interaction_matrix)\n",
    "    similar_users = np.argsort(similarity_matrix, axis=1)[:, -K-1:-1][:, ::-1]\n",
    "    # transform the indices into a binary vector\n",
    "    vectorized_similar_users = np.zeros((interaction_matrix.shape[0], interaction_matrix.shape[0]))\n",
    "    np.put_along_axis(vectorized_similar_users, similar_users, 1, axis=1)\n",
    "    \n",
    "    job_popularity = vectorized_similar_users @ interaction_matrix / K\n",
    "    popular_jobs = np.argsort(job_popularity, axis=1)[:, -10:][:, ::-1]\n",
    "    sorted_popularity = np.take_along_axis(job_popularity, popular_jobs, axis=1)\n",
    "\n",
    "    actions = list((sorted_popularity.mean(axis=1) > T))\n",
    "    actions = ['apply' if action else 'view' for action in actions]\n",
    "    next_jobs = [list(map(lambda idx: jod_idx_to_id[idx], job_list)) for job_list in popular_jobs]\n",
    "\n",
    "    return actions, next_jobs"
   ]
  },
  {
   "cell_type": "code",
   "execution_count": 224,
   "metadata": {},
   "outputs": [],
   "source": [
    "def evaluate(actions_pred, next_job_pred, actions_true, next_jobs_true):\n",
    "    accuracy = sum([1 if pred == true else 0 for pred, true in zip(actions_pred, actions_true)]) / len(actions_true)\n",
    "    MRR = 0\n",
    "    for pred, true in zip(next_job_pred, next_jobs_true):\n",
    "        if true in pred:\n",
    "            MRR += 1 / (1 + pred.index(true))\n",
    "    MRR /= len(next_jobs_true)\n",
    "    return 0.3 * accuracy + 0.7 * MRR"
   ]
  },
  {
   "cell_type": "code",
   "execution_count": 225,
   "metadata": {},
   "outputs": [],
   "source": [
    "actions_true = y_train.action.to_list()\n",
    "next_jobs_true = y_train.job_id.to_list()"
   ]
  },
  {
   "cell_type": "code",
   "execution_count": 226,
   "metadata": {},
   "outputs": [
    {
     "name": "stderr",
     "output_type": "stream",
     "text": [
      "100%|██████████| 20/20 [00:59<00:00,  2.98s/it]\n"
     ]
    }
   ],
   "source": [
    "results = []\n",
    "for K in tqdm(range(1, 100, 5)):\n",
    "    results.append([])\n",
    "    for T in np.arange(0.1, 1, 0.1):\n",
    "        actions, next_jobs = get_prediction(K, T)\n",
    "        results[-1].append(evaluate(actions, next_jobs, actions_true, next_jobs_true))"
   ]
  },
  {
   "cell_type": "code",
   "execution_count": null,
   "metadata": {},
   "outputs": [],
   "source": []
  },
  {
   "cell_type": "code",
   "execution_count": null,
   "metadata": {},
   "outputs": [],
   "source": []
  }
 ],
 "metadata": {
  "kernelspec": {
   "display_name": ".venv",
   "language": "python",
   "name": "python3"
  },
  "language_info": {
   "codemirror_mode": {
    "name": "ipython",
    "version": 3
   },
   "file_extension": ".py",
   "mimetype": "text/x-python",
   "name": "python",
   "nbconvert_exporter": "python",
   "pygments_lexer": "ipython3",
   "version": "3.10.11"
  }
 },
 "nbformat": 4,
 "nbformat_minor": 2
}
